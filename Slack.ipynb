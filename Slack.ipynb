{
 "cells": [
  {
   "cell_type": "code",
   "execution_count": 11,
   "metadata": {},
   "outputs": [],
   "source": [
    "import os\n",
    "from dotenv import load_dotenv\n",
    "\n",
    "load_dotenv()\n",
    "\n",
    "SLACK_BOT_TOKEN = os.getenv(\"SLACK_BOT_TOKEN\")\n",
    "CHANNEL_NAME = os.getenv(\"CHANNEL_NAME\")\n",
    "\n",
    "# 슬랙 봇 토큰\n",
    "SLACK_BOT_TOKEN = SLACK_BOT_TOKEN"
   ]
  },
  {
   "cell_type": "code",
   "execution_count": 12,
   "metadata": {},
   "outputs": [
    {
     "name": "stdout",
     "output_type": "stream",
     "text": [
      "메시지가 전송되었습니다.\n"
     ]
    }
   ],
   "source": [
    "from slack_sdk import WebClient\n",
    "\n",
    "# Slack 클라이언트 초기화\n",
    "client = WebClient(token=SLACK_BOT_TOKEN)  # 직접 토큰 입력 (환경 변수 대신)\n",
    "\n",
    "def send_message(message: str, channel: str):\n",
    "    try:\n",
    "        client.chat_postMessage(channel=channel, text=message)\n",
    "        print(\"메시지가 전송되었습니다.\")\n",
    "    except Exception as e:\n",
    "        print(f\"오류 발생: {e}\")\n",
    "\n",
    "if __name__ == \"__main__\":\n",
    "    send_message(\"안녕하세요, Slack 테스트 메시지입니다!\", CHANNEL_NAME)\n"
   ]
  },
  {
   "cell_type": "code",
   "execution_count": 16,
   "metadata": {},
   "outputs": [],
   "source": [
    "import os\n",
    "from dotenv import load_dotenv\n",
    "import python_bithumb as bit\n",
    "\n",
    "# .env 파일 로드\n",
    "load_dotenv()\n",
    "\n",
    "# 환경 변수 가져오기\n",
    "BITHUMB_API_KEY = os.getenv(\"BITHUMB_API_KEY\")\n",
    "BITHUMB_SECRET_KEY = os.getenv(\"BITHUMB_SECRET_KEY\")"
   ]
  },
  {
   "cell_type": "code",
   "execution_count": null,
   "metadata": {},
   "outputs": [
    {
     "name": "stdout",
     "output_type": "stream",
     "text": [
      "메시지가 전송되었습니다.\n"
     ]
    }
   ],
   "source": [
    "access_key = BITHUMB_API_KEY \n",
    "secret_key = BITHUMB_SECRET_KEY  \n",
    "\n",
    "bithumb = bit.Bithumb(access_key, secret_key)\n",
    "\n",
    "krw_balance = bithumb.get_balance(\"KRW\")\n",
    "\n",
    "send_message(\n",
    "    f\"\"\"\n",
    "        안녕하세요 오전 8시마다 보내드리는 알림입니다.\n",
    "    ------------------------------------\n",
    "    전체 자산 : {krw_balance}원\n",
    "\n",
    "    전체 수익률 : \n",
    "\n",
    "    전날 대비 수익률 : \n",
    "    ------------------------------------        \n",
    "    활기찬 연구생활 되시기를 바랍니다.\n",
    "    \"\"\", CHANNEL_NAME\n",
    ")"
   ]
  },
  {
   "cell_type": "code",
   "execution_count": 27,
   "metadata": {},
   "outputs": [
    {
     "name": "stdout",
     "output_type": "stream",
     "text": [
      "[INFO] 'KRW-BTC'의 minute1 데이터 100개를 'btc_scalping_data.csv'에 저장했습니다.\n",
      "[INFO] 'KRW-BTC'의 minute3 데이터 100개를 'btc_scalping_data_3min.csv'에 저장했습니다.\n"
     ]
    }
   ],
   "source": [
    "import os\n",
    "import pandas as pd\n",
    "import python_bithumb\n",
    "\n",
    "def save_scalping_ohlcv_to_csv(\n",
    "    ticker: str = \"KRW-BTC\",\n",
    "    interval: str = \"minute1\",\n",
    "    count: int = 100,\n",
    "    filename: str = \"scalping_data.csv\"\n",
    "):\n",
    "    \"\"\"\n",
    "    스캘핑을 위해 짧은 봉(예: 1분봉)의 OHLCV 데이터를 조회하여 CSV로 저장하는 함수 예시.\n",
    "    \n",
    "    Parameters\n",
    "    ----------\n",
    "    ticker : str\n",
    "        'KRW-BTC', 'KRW-ETH', 'KRW-XRP' 등 Bithumb 시장 티커\n",
    "    interval : str\n",
    "        'minute1', 'minute3', 'minute5', 'minute30' 등\n",
    "        python_bithumb가 지원하는 분봉 단위\n",
    "    count : int\n",
    "        몇 개의 봉 데이터를 가져올지 설정 (스캘핑 시 100~200 정도 사용 가능)\n",
    "    filename : str\n",
    "        저장할 CSV 파일 경로(이름). 예: \"btc_scalping_data.csv\"\n",
    "    \n",
    "    Returns\n",
    "    -------\n",
    "    None\n",
    "        지정한 파일로 CSV 저장 후 함수 종료\n",
    "    \"\"\"\n",
    "    # 1) 데이터 가져오기\n",
    "    df = python_bithumb.get_ohlcv(ticker, interval=interval, count=count)\n",
    "    if df is None or df.empty:\n",
    "        print(f\"[WARNING] {ticker} {interval} 데이터가 비어 있습니다. 저장을 중단합니다.\")\n",
    "        return\n",
    "    \n",
    "    # 2) CSV 파일 저장할 폴더가 없으면 생성\n",
    "    dir_name = os.path.dirname(filename)\n",
    "    if dir_name and not os.path.exists(dir_name):\n",
    "        os.makedirs(dir_name, exist_ok=True)\n",
    "    \n",
    "    # 3) CSV로 저장 (한글 깨짐 방지 위해 utf-8-sig 사용)\n",
    "    #    index=True 또는 False 선택 가능. 여기서는 True로 저장해 날짜 인덱스 포함\n",
    "    df.to_csv(filename, encoding='utf-8-sig', index=True)\n",
    "    \n",
    "    print(f\"[INFO] '{ticker}'의 {interval} 데이터 {count}개를 '{filename}'에 저장했습니다.\")\n",
    "\n",
    "\n",
    "if __name__ == \"__main__\":\n",
    "    # 1분봉 기준, 최근 100개 봉 데이터를 \"btc_scalping_data.csv\"에 저장\n",
    "    save_scalping_ohlcv_to_csv(\n",
    "        ticker=\"KRW-BTC\",\n",
    "        interval=\"minute1\",\n",
    "        count=100,\n",
    "        filename=\"btc_scalping_data.csv\"\n",
    "    )\n",
    "\n",
    "    # 필요에 따라 3분봉, 5분봉 등도 따로 저장할 수 있음\n",
    "    save_scalping_ohlcv_to_csv(\n",
    "        ticker=\"KRW-BTC\",\n",
    "        interval=\"minute3\",\n",
    "        count=100,\n",
    "        filename=\"btc_scalping_data_3min.csv\"\n",
    "    )\n"
   ]
  },
  {
   "cell_type": "code",
   "execution_count": 74,
   "metadata": {},
   "outputs": [
    {
     "name": "stdout",
     "output_type": "stream",
     "text": [
      "[INFO] CSV 파일 'my_news.csv' 저장 완료.\n"
     ]
    }
   ],
   "source": [
    "import time\n",
    "import re\n",
    "import pandas as pd\n",
    "from selenium import webdriver\n",
    "from selenium.webdriver.common.by import By\n",
    "\n",
    "def crawl_with_selenium():\n",
    "    \"\"\"\n",
    "    셀레니움으로 coinness.com/article 페이지 로딩 후\n",
    "    특정 CSS 셀렉터로 지정된 하늘색 영역의 텍스트를 추출.\n",
    "    \"\"\"\n",
    "    driver = webdriver.Chrome()\n",
    "    driver.get(\"https://coinness.com/article\")\n",
    "\n",
    "    # JS 로딩 시간 대기\n",
    "    time.sleep(5)  \n",
    "\n",
    "    try:\n",
    "        css = \"#root > div > div.Wrap-sc-v065lx-0.hwmGSB > div > main > div.ContentContainer-sc-91rcal-0.jJHYjq > div.ArticleListContainer-sc-cj3rkv-0.fkxjqP\"\n",
    "        container = driver.find_element(By.CSS_SELECTOR, css)\n",
    "        return container.text\n",
    "    except Exception as e:\n",
    "        print(\"요소를 찾지 못했습니다:\", e)\n",
    "        return \"\"\n",
    "    finally:\n",
    "        # 브라우저 종료\n",
    "        driver.quit()\n",
    "\n",
    "def parse_news_text(raw_text):\n",
    "    \"\"\"\n",
    "    1) HH:MM (예: '00:13') 만나는 순간 새 기사 시작.\n",
    "    2) 다음 줄 = 날짜\n",
    "    3) 그 다음 줄 = 제목\n",
    "    4) 그 뒤로 다음 HH:MM 전까지 = 본문\n",
    "    \"\"\"\n",
    "    # 줄바꿈 기준으로 split 후, 공백만 있는 줄은 제거\n",
    "    lines = [line.strip() for line in raw_text.splitlines() if line.strip()]\n",
    "    \n",
    "    time_pattern = re.compile(r'^\\d{2}:\\d{2}$')  # HH:MM\n",
    "    articles = []\n",
    "    \n",
    "    current_time = None\n",
    "    current_date = None\n",
    "    current_title = None\n",
    "    content_lines = []\n",
    "    \n",
    "    def save_article():\n",
    "        # 현재까지 쌓인 기사 정보를 리스트에 추가\n",
    "        if current_time and current_date and current_title:\n",
    "            articles.append({\n",
    "                \"time\": current_time,\n",
    "                \"date\": current_date,\n",
    "                \"title\": current_title,\n",
    "                \"content\": \"\\n\".join(content_lines).strip()\n",
    "            })\n",
    "    \n",
    "    state = \"idle\"\n",
    "\n",
    "    for line in lines:\n",
    "        # 1) 새로운 시간 패턴 만남 -> 이전 기사 저장 후 새 기사 시작\n",
    "        if time_pattern.match(line):\n",
    "            save_article()  # 이전 기사 저장\n",
    "            current_time = line\n",
    "            current_date = None\n",
    "            current_title = None\n",
    "            content_lines = []\n",
    "            state = \"got_time\"\n",
    "            continue\n",
    "        \n",
    "        # 2) got_time 이후 첫 줄 -> 날짜\n",
    "        if state == \"got_time\":\n",
    "            current_date = line\n",
    "            state = \"got_date\"\n",
    "            continue\n",
    "        \n",
    "        # 3) got_date 이후 첫 줄 -> 제목\n",
    "        if state == \"got_date\":\n",
    "            current_title = line\n",
    "            state = \"got_title\"\n",
    "            continue\n",
    "        \n",
    "        # 4) 나머지 줄 -> 본문\n",
    "        content_lines.append(line)\n",
    "        state = \"collecting_content\"\n",
    "    \n",
    "    # 마지막 기사 저장\n",
    "    save_article()\n",
    "    return articles\n",
    "\n",
    "def save_to_csv(articles, filename=\"my_news.csv\"):\n",
    "    \"\"\"\n",
    "    파싱된 기사를 [time, date, title, content] 컬럼 순서로 CSV 저장\n",
    "    \"\"\"\n",
    "    if not articles:\n",
    "        print(\"[INFO] 기사 리스트가 비어 있습니다.\")\n",
    "        return\n",
    "    \n",
    "    df = pd.DataFrame(articles, columns=[\"time\", \"date\", \"title\", \"content\"])\n",
    "    df.to_csv(filename, index=False, encoding=\"utf-8-sig\")\n",
    "    print(f\"[INFO] CSV 파일 '{filename}' 저장 완료.\")\n",
    "\n",
    "if __name__ == \"__main__\":\n",
    "    # 1) Selenium 크롤링\n",
    "    raw_text = crawl_with_selenium()\n",
    "    \n",
    "    # 2) 텍스트 파싱 -> 기사 리스트\n",
    "    articles = parse_news_text(raw_text)\n",
    "    \n",
    "    # 3) CSV 저장\n",
    "    save_to_csv(articles, \"my_news.csv\")\n"
   ]
  },
  {
   "cell_type": "code",
   "execution_count": 71,
   "metadata": {},
   "outputs": [
    {
     "name": "stdout",
     "output_type": "stream",
     "text": [
      "메시지가 전송되었습니다.\n"
     ]
    }
   ],
   "source": [
    "send_message(crawl_with_selenium(), CHANNEL_NAME)"
   ]
  }
 ],
 "metadata": {
  "kernelspec": {
   "display_name": "M2ni",
   "language": "python",
   "name": "python3"
  },
  "language_info": {
   "codemirror_mode": {
    "name": "ipython",
    "version": 3
   },
   "file_extension": ".py",
   "mimetype": "text/x-python",
   "name": "python",
   "nbconvert_exporter": "python",
   "pygments_lexer": "ipython3",
   "version": "3.12.3"
  }
 },
 "nbformat": 4,
 "nbformat_minor": 2
}
