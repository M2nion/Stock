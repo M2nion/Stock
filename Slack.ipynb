{
 "cells": [
  {
   "cell_type": "code",
   "execution_count": 1,
   "metadata": {},
   "outputs": [],
   "source": [
    "import os\n",
    "from dotenv import load_dotenv\n",
    "\n",
    "load_dotenv()\n",
    "\n",
    "SLACK_BOT_TOKEN = os.getenv(\"SLACK_BOT_TOKEN\")\n",
    "CHANNEL_NAME = os.getenv(\"CHANNEL_NAME\")\n",
    "\n",
    "# 슬랙 봇 토큰\n",
    "SLACK_BOT_TOKEN = SLACK_BOT_TOKEN"
   ]
  },
  {
   "cell_type": "code",
   "execution_count": 2,
   "metadata": {},
   "outputs": [
    {
     "name": "stdout",
     "output_type": "stream",
     "text": [
      "메시지가 전송되었습니다.\n"
     ]
    }
   ],
   "source": [
    "from slack_sdk import WebClient\n",
    "\n",
    "# Slack 클라이언트 초기화\n",
    "client = WebClient(token=SLACK_BOT_TOKEN)  # 직접 토큰 입력 (환경 변수 대신)\n",
    "\n",
    "def send_message(message: str, channel: str):\n",
    "    try:\n",
    "        client.chat_postMessage(channel=channel, text=message)\n",
    "        print(\"메시지가 전송되었습니다.\")\n",
    "    except Exception as e:\n",
    "        print(f\"오류 발생: {e}\")\n",
    "\n",
    "if __name__ == \"__main__\":\n",
    "    send_message(\"안녕하세요, Slack 테스트 메시지입니다!\", CHANNEL_NAME)\n"
   ]
  },
  {
   "cell_type": "code",
   "execution_count": 3,
   "metadata": {},
   "outputs": [],
   "source": [
    "import os\n",
    "from dotenv import load_dotenv\n",
    "import python_bithumb\n",
    "\n",
    "# .env 파일 로드\n",
    "load_dotenv()\n",
    "\n",
    "# 환경 변수 가져오기\n",
    "BITHUMB_API_KEY = os.getenv(\"BITHUMB_API_KEY\")\n",
    "BITHUMB_SECRET_KEY = os.getenv(\"BITHUMB_SECRET_KEY\")"
   ]
  },
  {
   "cell_type": "code",
   "execution_count": null,
   "metadata": {},
   "outputs": [
    {
     "name": "stdout",
     "output_type": "stream",
     "text": [
      "메시지가 전송되었습니다.\n"
     ]
    }
   ],
   "source": [
    "access_key = BITHUMB_API_KEY \n",
    "secret_key = BITHUMB_SECRET_KEY  \n",
    "\n",
    "bithumb = python_bithumb.Bithumb(access_key, secret_key)\n",
    "\n",
    "krw_balance = bithumb.get_balance(\"KRW\")\n",
    "\n",
    "send_message(\n",
    "    f\"\"\"\n",
    "        안녕하세요 오전 8시마다 보내드리는 알림입니다.\n",
    "    ------------------------------------\n",
    "    전체 자산 : {krw_balance}원\n",
    "\n",
    "    전체 수익률 : \n",
    "\n",
    "    전날 대비 수익률 : \n",
    "    ------------------------------------        \n",
    "    활기찬 연구생활 되시기를 바랍니다.\n",
    "    \"\"\", CHANNEL_NAME\n",
    ")"
   ]
  }
 ],
 "metadata": {
  "kernelspec": {
   "display_name": "M2ni",
   "language": "python",
   "name": "python3"
  },
  "language_info": {
   "codemirror_mode": {
    "name": "ipython",
    "version": 3
   },
   "file_extension": ".py",
   "mimetype": "text/x-python",
   "name": "python",
   "nbconvert_exporter": "python",
   "pygments_lexer": "ipython3",
   "version": "3.12.3"
  }
 },
 "nbformat": 4,
 "nbformat_minor": 2
}
