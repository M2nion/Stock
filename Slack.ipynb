{
 "cells": [
  {
   "cell_type": "code",
   "execution_count": 2,
   "metadata": {},
   "outputs": [],
   "source": [
    "import os\n",
    "from dotenv import load_dotenv\n",
    "\n",
    "load_dotenv()\n",
    "\n",
    "SLACK_BOT_TOKEN = os.getenv(\"SLACK_BOT_TOKEN\")\n",
    "CHANNEL_NAME = os.getenv(\"CHANNEL_NAME\")\n",
    "\n",
    "# 슬랙 봇 토큰\n",
    "SLACK_BOT_TOKEN = SLACK_BOT_TOKEN"
   ]
  },
  {
   "cell_type": "code",
   "execution_count": 10,
   "metadata": {},
   "outputs": [
    {
     "name": "stdout",
     "output_type": "stream",
     "text": [
      "오류 발생: WebClient.chat_postMessage() takes 1 positional argument but 2 positional arguments (and 1 keyword-only argument) were given\n"
     ]
    }
   ],
   "source": [
    "from slack_sdk import WebClient\n",
    "\n",
    "# Slack 클라이언트 초기화\n",
    "client = WebClient(token=SLACK_BOT_TOKEN)  # 직접 토큰 입력 (환경 변수 대신)\n",
    "\n",
    "def send_message(message: str, channel: str):\n",
    "    \"\"\"Slack 채널에 메시지 전송\"\"\"\n",
    "    try:\n",
    "        client.chat_postMessage(channel=CHANNEL_NAME, text=message)\n",
    "        print(\"메시지가 전송되었습니다.\")\n",
    "    except Exception as e:\n",
    "        print(f\"오류 발생: {e}\")\n",
    "\n",
    "if __name__ == \"__main__\":\n",
    "    send_message(\"안녕하세요, Slack 테스트 메시지입니다!\", \"#your-channel-name\")\n"
   ]
  }
 ],
 "metadata": {
  "kernelspec": {
   "display_name": "Min",
   "language": "python",
   "name": "python3"
  },
  "language_info": {
   "codemirror_mode": {
    "name": "ipython",
    "version": 3
   },
   "file_extension": ".py",
   "mimetype": "text/x-python",
   "name": "python",
   "nbconvert_exporter": "python",
   "pygments_lexer": "ipython3",
   "version": "3.13.0"
  }
 },
 "nbformat": 4,
 "nbformat_minor": 2
}
