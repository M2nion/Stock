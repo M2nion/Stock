{
 "cells": [
  {
   "cell_type": "code",
   "execution_count": 21,
   "metadata": {},
   "outputs": [
    {
     "name": "stdout",
     "output_type": "stream",
     "text": [
      "['Role: 비트코인 스캘핑 전문가', 'Todo: 첨부되는 차트와 뉴스를 확인 후 매수/홀딩/매도중 한 단어로 결과를 출력', '보유종목: KRW-BTC', 'Image: 5min.png - 참고용 & Image: 15min.png - 참고용', '역할과 사진 정보를 바탕으로 지시사항을 수행']\n"
     ]
    }
   ],
   "source": [
    "import os\n",
    "\n",
    "def create_openai_prompt(\n",
    "    role_description: str,\n",
    "    tasks: str,\n",
    "    image_file_paths: list\n",
    ") -> str:\n",
    "    image_descriptions = []  # 이미지 경로 정보를 담을 리스트\n",
    "    for image_path in image_file_paths:\n",
    "        if not os.path.exists(image_path):\n",
    "            image_descriptions.append(f\"[Error: {image_path} not found]\")\n",
    "            continue\n",
    "\n",
    "        # 경로에서 파일 이름만 추출하여 프롬프트에 추가\n",
    "        image_descriptions.append(f\"Image: {os.path.basename(image_path)} - 참고용\")\n",
    "\n",
    "    # 이미지 정보를 하나의 문자열로 합치기\n",
    "    image_data_combined = \" & \".join(image_descriptions)\n",
    "\n",
    "    # 최종 프롬프트 구성\n",
    "    prompt = ([\n",
    "        f\"Role: {role_description}\",\n",
    "        f\"Todo: {tasks}\",\n",
    "        f\"보유종목: KRW-BTC\",\n",
    "        f\"{image_data_combined}\",\n",
    "        f\"역할과 사진 정보를 바탕으로 지시사항을 수행\"]\n",
    "    )\n",
    "    return prompt\n",
    "\n",
    "# 테스트 예시\n",
    "role = \"비트코인 스캘핑 전문가\"\n",
    "tasks = \"첨부되는 차트와 뉴스를 확인 후 매수/홀딩/매도중 한 단어로 결과를 출력\"\n",
    "image_paths = [\n",
    "    r\"D:\\바탕화면\\code\\Stock\\Code\\5min.png\",\n",
    "    r\"D:\\바탕화면\\code\\Stock\\Code\\15min.png\"\n",
    "]\n",
    "\n",
    "final_prompt = create_openai_prompt(role, tasks, image_paths)\n",
    "print(final_prompt)\n"
   ]
  },
  {
   "cell_type": "code",
   "execution_count": 22,
   "metadata": {},
   "outputs": [],
   "source": [
    "import google.generativeai as genai\n",
    "import os \n",
    "from dotenv import load_dotenv\n",
    "\n",
    "load_dotenv\n",
    "\n",
    "Google_API_KEY=os.getenv(\"GEMINI_API_KEY\")\n",
    "\n",
    "genai.configure(api_key=Google_API_KEY)\n",
    "model = genai.GenerativeModel('gemini-1.5-flash')"
   ]
  },
  {
   "cell_type": "code",
   "execution_count": null,
   "metadata": {},
   "outputs": [
    {
     "name": "stdout",
     "output_type": "stream",
     "text": [
      "매도\n",
      "\n"
     ]
    }
   ],
   "source": [
    "response = model.generate_content(final_prompt)\n",
    "print(response.text)"
   ]
  }
 ],
 "metadata": {
  "kernelspec": {
   "display_name": "Min",
   "language": "python",
   "name": "python3"
  },
  "language_info": {
   "codemirror_mode": {
    "name": "ipython",
    "version": 3
   },
   "file_extension": ".py",
   "mimetype": "text/x-python",
   "name": "python",
   "nbconvert_exporter": "python",
   "pygments_lexer": "ipython3",
   "version": "3.13.0"
  }
 },
 "nbformat": 4,
 "nbformat_minor": 2
}
