{
 "cells": [
  {
   "cell_type": "code",
   "execution_count": 1,
   "metadata": {},
   "outputs": [],
   "source": [
    "import google.generativeai as genai\n",
    "import os \n",
    "from dotenv import load_dotenv\n",
    "\n",
    "load_dotenv\n",
    "\n",
    "Google_API_KEY=os.getenv(\"GEMINI_API_KEY\")\n",
    "\n",
    "genai.configure(api_key=Google_API_KEY)\n",
    "model = genai.GenerativeModel('models/gemini-2.0-flash-exp')"
   ]
  },
  {
   "cell_type": "code",
   "execution_count": null,
   "metadata": {},
   "outputs": [],
   "source": [
    "# 프롬프트 입력력\n",
    "prompt = \"너는 비트코인 투자 전문가야.\"\n",
    "mission = \"최대한의 수익을 낼 수 있도록 매수/매도/홀딩 가치판단을 하고, json 형태로 보여줘 { {판단 : ex) 구매}, 위험성 : 상상/중/하, 판단 이유 : }\"\n",
    "reference = # ex) 비트코인 현재가, 비트코인 1분/5분/15분봉, 뉴스컬럼"
   ]
  },
  {
   "cell_type": "code",
   "execution_count": 6,
   "metadata": {},
   "outputs": [
    {
     "name": "stdout",
     "output_type": "stream",
     "text": [
      "<bound method GenerativeModel.count_tokens of genai.GenerativeModel(\n",
      "    model_name='models/gemini-2.0-flash-exp',\n",
      "    generation_config={},\n",
      "    safety_settings={},\n",
      "    tools=None,\n",
      "    system_instruction=None,\n",
      "    cached_content=None\n",
      ")>\n"
     ]
    }
   ],
   "source": [
    "k = model."
   ]
  },
  {
   "cell_type": "code",
   "execution_count": 7,
   "metadata": {},
   "outputs": [],
   "source": [
    "# 빗썸 비트코인 현재가 조회\n",
    "import python_bithumb\n",
    "\n",
    "# .env 파일 로드\n",
    "load_dotenv()\n",
    "\n",
    "# 환경 변수 가져오기\n",
    "BITHUMB_API_KEY = os.getenv(\"BITHUMB_API_KEY\")\n",
    "BITHUMB_SECRET_KEY = os.getenv(\"BITHUMB_SECRET_KEY\")"
   ]
  },
  {
   "cell_type": "code",
   "execution_count": null,
   "metadata": {},
   "outputs": [],
   "source": [
    "access_key = BITHUMB_API_KEY \n",
    "secret_key = BITHUMB_SECRET_KEY  \n",
    "\n",
    "bithumb = python_bithumb.Bithumb(access_key, secret_key)\n",
    "\n",
    "krw_balance = bithumb.get_balance(\"KRW\")\n",
    "\n",
    "# 다중 현재가 조회\n",
    "price = python_bithumb.get_current_price([\"KRW-BTC\"])\n",
    "\n",
    "\n",
    "# 시장가 매수 주문\n",
    "# order_info = bithumb.buy_market_order(\"KRW-BTC\", 10000)\n",
    "\n",
    "# 주문 가능 조회\n",
    "chance_info = bithumb.get_order_chance(\"KRW-BTC\")\n",
    "print(chance_info)\n",
    "\n",
    "print(price)\n",
    "print(krw_balance,\"원\")\n",
    "\n"
   ]
  },
  {
   "cell_type": "code",
   "execution_count": 3,
   "metadata": {},
   "outputs": [],
   "source": [
    "import pandas as pd\n",
    "import python_bithumb\n",
    "import os"
   ]
  },
  {
   "cell_type": "code",
   "execution_count": null,
   "metadata": {},
   "outputs": [
    {
     "name": "stdout",
     "output_type": "stream",
     "text": [
      "[INFO] 'KRW-BTC'의 minute1 데이터 100개를 'btc_scalping_data.csv'에 저장했습니다.\n",
      "[INFO] 'KRW-BTC'의 minute3 데이터 100개를 'btc_scalping_data_3min.csv'에 저장했습니다.\n"
     ]
    }
   ],
   "source": [
    "# 환경 변수 가져오기\n",
    "BITHUMB_API_KEY = os.getenv(\"BITHUMB_API_KEY\")\n",
    "BITHUMB_SECRET_KEY = os.getenv(\"BITHUMB_SECRET_KEY\")\n",
    "\n",
    "access_key = BITHUMB_API_KEY \n",
    "secret_key = BITHUMB_SECRET_KEY  \n",
    "\n",
    "bithumb = python_bithumb.Bithumb(access_key, secret_key)\n",
    "\n",
    "krw_balance = bithumb.get_balance(\"KRW\")\n",
    "\n",
    "\n",
    "\n",
    "def save_scalping_ohlcv_to_csv(\n",
    "    ticker: str = \"KRW-BTC\",\n",
    "    interval: str = \"minute1\",\n",
    "    count: int = 100,\n",
    "    filename: str = \"scalping_data.csv\"\n",
    "):\n",
    "    # 1) 데이터 가져오기\n",
    "    df = python_bithumb.get_ohlcv(ticker, interval=interval, count=count)\n",
    "    if df is None or df.empty:\n",
    "        print(f\"[WARNING] {ticker} {interval} 데이터가 비어 있습니다. 저장을 중단합니다.\")\n",
    "        return\n",
    "    \n",
    "    # 2) CSV 파일 저장할 폴더가 없으면 생성\n",
    "    dir_name = os.path.dirname(filename)\n",
    "    if dir_name and not os.path.exists(dir_name):\n",
    "        os.makedirs(dir_name, exist_ok=True)\n",
    "    \n",
    "    # 3) CSV로 저장 (한글 깨짐 방지 위해 utf-8-sig 사용)\n",
    "    #    index=True 또는 False 선택 가능. 여기서는 True로 저장해 날짜 인덱스 포함\n",
    "    df.to_csv(filename, encoding='utf-8-sig', index=True)\n",
    "    \n",
    "    print(f\"[INFO] '{ticker}'의 {interval} 데이터 {count}개를 '{filename}'에 저장했습니다.\")\n",
    "\n",
    "\n",
    "if __name__ == \"__main__\":\n",
    "    # 1분봉 기준, 최근 100개 봉 데이터를 \"btc_scalping_data.csv\"에 저장\n",
    "    save_scalping_ohlcv_to_csv(\n",
    "        ticker=\"KRW-BTC\",\n",
    "        interval=\"minute1\",\n",
    "        count=100,\n",
    "        filename=\"btc_scalping_data.csv\"\n",
    "    )\n",
    "\n",
    "    # 필요에 따라 3분봉, 5분봉 등도 따로 저장할 수 있음\n",
    "    save_scalping_ohlcv_to_csv(\n",
    "        ticker=\"KRW-BTC\",\n",
    "        interval=\"minute3\",\n",
    "        count=100,\n",
    "        filename=\"btc_scalping_data_3min.csv\"\n",
    "    )\n"
   ]
  }
 ],
 "metadata": {
  "kernelspec": {
   "display_name": "M2ni",
   "language": "python",
   "name": "python3"
  },
  "language_info": {
   "codemirror_mode": {
    "name": "ipython",
    "version": 3
   },
   "file_extension": ".py",
   "mimetype": "text/x-python",
   "name": "python",
   "nbconvert_exporter": "python",
   "pygments_lexer": "ipython3",
   "version": "3.12.3"
  }
 },
 "nbformat": 4,
 "nbformat_minor": 2
}
