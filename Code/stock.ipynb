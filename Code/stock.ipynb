{
 "cells": [
  {
   "cell_type": "code",
   "execution_count": 1,
   "metadata": {},
   "outputs": [],
   "source": [
    "import os\n",
    "from dotenv import load_dotenv\n",
    "import python_bithumb\n",
    "\n",
    "# .env 파일 로드\n",
    "load_dotenv()\n",
    "\n",
    "# 환경 변수 가져오기\n",
    "BITHUMB_API_KEY = os.getenv(\"BITHUMB_API_KEY\")\n",
    "BITHUMB_SECRET_KEY = os.getenv(\"BITHUMB_SECRET_KEY\")"
   ]
  },
  {
   "cell_type": "code",
   "execution_count": null,
   "metadata": {},
   "outputs": [
    {
     "name": "stdout",
     "output_type": "stream",
     "text": [
      "[INFO] 'KRW-BTC' minute5 데이터 30개를 '5min.csv'에 저장했습니다.\n",
      "[INFO] 'KRW-BTC' minute15 데이터 15개를 '15min.csv'에 저장했습니다.\n",
      "[INFO] 그래프를 'img\\5min.png'로 저장했습니다.\n",
      "[INFO] 그래프를 'img\\15min.png'로 저장했습니다.\n"
     ]
    },
    {
     "data": {
      "text/plain": [
       "'img\\\\15min.png'"
      ]
     },
     "execution_count": 1,
     "metadata": {},
     "output_type": "execute_result"
    }
   ],
   "source": [
    "import os\n",
    "import pandas as pd\n",
    "import python_bithumb\n",
    "import matplotlib.pyplot as plt\n",
    "from slack_sdk import WebClient\n",
    "from slack_sdk.errors import SlackApiError\n",
    "\n",
    "# 환경 변수 가져오기 (실제 사용 시 .env 또는 OS 환경변수 설정)\n",
    "BITHUMB_API_KEY = os.getenv(\"BITHUMB_API_KEY\")\n",
    "BITHUMB_SECRET_KEY = os.getenv(\"BITHUMB_SECRET_KEY\")\n",
    "SLACK_BOT_TOKEN = os.getenv(\"SLACK_BOT_TOKEN\")\n",
    "CHANNEL_NAME = os.getenv(\"CHANNEL_NAME\")\n",
    "\n",
    "client = WebClient(token=SLACK_BOT_TOKEN)  # 직접 토큰 입력 (환경 변수 대신)\n",
    "\n",
    "access_key = BITHUMB_API_KEY \n",
    "secret_key = BITHUMB_SECRET_KEY  \n",
    "\n",
    "bithumb = python_bithumb.Bithumb(access_key, secret_key)\n",
    "\n",
    "# 예시: 원화 잔고 조회\n",
    "krw_balance = bithumb.get_balance(\"KRW\")\n",
    "\n",
    "def send_message(message: str, channel: str = CHANNEL_NAME, image_path: str = None):\n",
    "    try:\n",
    "        client.chat_postMessage(channel=channel, text=message)\n",
    "        print(\"메시지 전송 성공\")\n",
    "    except SlackApiError as e:\n",
    "        print(f\"Slack API 오류: {e.response['error']}\")\n",
    "    except Exception as e:\n",
    "        print(f\"오류 발생: {e}\")\n",
    "\n",
    "\n",
    "\n",
    "# (B) 짧은 봉(스캘핑용) CSV 저장\n",
    "def save_scalping_ohlcv_to_csv(\n",
    "    ticker: str = \"KRW-BTC\",\n",
    "    interval: str = \"minute1\",\n",
    "    count: int = 100,\n",
    "    filename: str = \"scalping_data.csv\"\n",
    "):\n",
    "    df = python_bithumb.get_ohlcv(ticker, interval=interval, count=count)\n",
    "    if df is None or df.empty:\n",
    "        print(f\"[WARNING] {ticker} {interval} 데이터가 비어 있습니다. 저장을 중단합니다.\")\n",
    "        return\n",
    "    \n",
    "    # 폴더 자동 생성\n",
    "    dir_name = os.path.dirname(filename)\n",
    "    if dir_name and not os.path.exists(dir_name):\n",
    "        os.makedirs(dir_name, exist_ok=True)\n",
    "    \n",
    "    df.to_csv(filename, encoding='utf-8-sig', index=True)\n",
    "    print(f\"[INFO] '{ticker}' {interval} 데이터 {count}개를 '{filename}'에 저장했습니다.\")\n",
    "\n",
    "import matplotlib.dates as mdates\n",
    "\n",
    "def plot_ohlcv_from_csv(csv_path: str, output_folder : str=\"img\", out_image_path: str = \"ohlcv_plot.png\") -> str:\n",
    "    # 결과 폴더 생성\n",
    "    os.makedirs(output_folder, exist_ok=True)\n",
    "    out_image_path = os.path.join(output_folder, out_image_path)\n",
    "\n",
    "    if not os.path.exists(csv_path):\n",
    "        print(f\"[ERROR] CSV 파일 '{csv_path}'이(가) 존재하지 않습니다.\")\n",
    "        return \"\"\n",
    "    \n",
    "    # CSV 읽기\n",
    "    df = pd.read_csv(csv_path, index_col=0, parse_dates=True)\n",
    "    if df.empty:\n",
    "        print(f\"[WARNING] CSV 파일 '{csv_path}'이(가) 비어 있습니다.\")\n",
    "        return \"\"\n",
    "    \n",
    "    # Matplotlib으로 'Open' 값만 시계열 그래프로 그리기\n",
    "    plt.figure(figsize=(10, 6))\n",
    "    plt.plot(df.index, df['open'], label='Open Price', color='blue')\n",
    "    \n",
    "    # 그래프 꾸미기\n",
    "    plt.title(f\"Open Price\")\n",
    "    plt.xlabel(\"DateTime\")\n",
    "    plt.ylabel(\"Price (KRW)\")\n",
    "    plt.legend()\n",
    "\n",
    "    # x축 눈금을 촘촘하게 설정\n",
    "    ax = plt.gca()\n",
    "    ax.xaxis.set_major_locator(mdates.MinuteLocator(interval=5))  # 5분 간격으로 주요 눈금\n",
    "    ax.xaxis.set_minor_locator(mdates.MinuteLocator(interval=1))  # 1분 간격으로 보조 눈금\n",
    "    ax.xaxis.set_major_formatter(mdates.DateFormatter('%H:%M'))  # HH:MM 형식으로 표시\n",
    "    plt.xticks(rotation=45)  # x축 눈금 기울이기\n",
    "    \n",
    "    # 촘촘한 Grid 설정\n",
    "    plt.grid(which='both', linestyle='--', linewidth=0.5, alpha=0.7)\n",
    "    plt.minorticks_on()  # 보조 눈금 활성화\n",
    "    \n",
    "    # 이미지 파일 저장\n",
    "    plt.savefig(out_image_path, dpi=150, bbox_inches='tight')\n",
    "    plt.close()  # 메모리 해제\n",
    "    \n",
    "    print(f\"[INFO] 그래프를 '{out_image_path}'로 저장했습니다.\")\n",
    "    return out_image_path\n",
    "\n",
    "\n",
    "\n",
    "filename5 = \"5min.csv\"\n",
    "filename15 = \"15min.csv\"\n",
    "# 1) OHLCV CSV 저장\n",
    "save_scalping_ohlcv_to_csv(\n",
    "    ticker=\"KRW-BTC\",\n",
    "    interval=\"minute5\",\n",
    "    count=30,\n",
    "    filename=filename5\n",
    ")\n",
    "\n",
    "save_scalping_ohlcv_to_csv(\n",
    "    ticker=\"KRW-BTC\",\n",
    "    interval=\"minute15\",\n",
    "    count=15,\n",
    "    filename=filename15\n",
    ")\n",
    "\n",
    "# 2) 저장된 CSV 기반으로 그래프 PNG 생성\n",
    "plot_ohlcv_from_csv(\n",
    "    csv_path=r\"D:\\바탕화면\\code\\Stock\\Code\\5min.csv\",\n",
    "    out_image_path=\"5min.png\"\n",
    ")\n",
    "plot_ohlcv_from_csv(\n",
    "    csv_path=r\"D:\\바탕화면\\code\\Stock\\Code\\15min.csv\",\n",
    "    out_image_path=\"15min.png\"\n",
    ")"
   ]
  },
  {
   "cell_type": "code",
   "execution_count": 7,
   "metadata": {},
   "outputs": [
    {
     "name": "stdout",
     "output_type": "stream",
     "text": [
      "[INFO] 'KRW-BTC' minute5 데이터 30개를 'csv/5min.csv'에 저장했습니다.\n",
      "[INFO] 그래프를 'img/5min.png'에 저장했습니다.\n"
     ]
    }
   ],
   "source": [
    "import os\n",
    "import pandas as pd\n",
    "import matplotlib.pyplot as plt\n",
    "import matplotlib.dates as mdates  # Matplotlib 날짜 포맷터 및 로케이터\n",
    "\n",
    "def save_and_plot_ohlcv(\n",
    "    ticker: str = \"KRW-BTC\",\n",
    "    interval: str = \"minute5\",\n",
    "    count: int = 100,\n",
    "    csv_filename: str =\"\",\n",
    "    img_filename: str = \"img/scalping_plot.png\"\n",
    "):\n",
    "    # OHLCV 데이터 가져오기\n",
    "    df = python_bithumb.get_ohlcv(ticker, interval=interval, count=count)\n",
    "    if df is None or df.empty:\n",
    "        print(f\"[WARNING] {ticker} {interval} 데이터가 비어 있습니다. 작업을 중단합니다.\")\n",
    "        return\n",
    "    \n",
    "    csv_filename = \"csv/\" + csv_filename + \".csv\"\n",
    "\n",
    "    # CSV 저장\n",
    "    csv_dir = os.path.dirname(csv_filename)\n",
    "    if csv_dir and not os.path.exists(csv_dir):\n",
    "        os.makedirs(csv_dir, exist_ok=True)\n",
    "    \n",
    "    df.to_csv(csv_filename, encoding='utf-8-sig', index=True)\n",
    "    print(f\"[INFO] '{ticker}' {interval} 데이터 {count}개를 '{csv_filename}'에 저장했습니다.\")\n",
    "\n",
    "    img_filename = \"img/\" + img_filename + \".png\"\n",
    "    # 이미지 저장\n",
    "    img_dir = os.path.dirname(img_filename)\n",
    "    if img_dir and not os.path.exists(img_dir):\n",
    "        os.makedirs(img_dir, exist_ok=True)\n",
    "\n",
    "    plt.figure(figsize=(10, 6))\n",
    "    plt.plot(df.index, df['open'], label='Open Price', color='blue')\n",
    "\n",
    "    # 그래프 꾸미기\n",
    "    plt.title(f\"{ticker} Open Price ({interval})\")\n",
    "    plt.xlabel(\"DateTime\")\n",
    "    plt.ylabel(\"Price (KRW)\")\n",
    "    plt.legend()\n",
    "\n",
    "    # x축 눈금 설정\n",
    "    ax = plt.gca()\n",
    "    ax.xaxis.set_major_locator(mdates.MinuteLocator(interval=5))\n",
    "    ax.xaxis.set_minor_locator(mdates.MinuteLocator(interval=1))\n",
    "    ax.xaxis.set_major_formatter(mdates.DateFormatter('%H:%M'))\n",
    "    plt.xticks(rotation=45)\n",
    "\n",
    "    # Grid 설정\n",
    "    plt.grid(which='both', linestyle='--', linewidth=0.5, alpha=0.7)\n",
    "    plt.minorticks_on()\n",
    "\n",
    "    plt.savefig(img_filename, dpi=150, bbox_inches='tight')\n",
    "    plt.close()\n",
    "    print(f\"[INFO] 그래프를 '{img_filename}'에 저장했습니다.\")\n",
    "\n",
    "save_and_plot_ohlcv(count = 30, csv_filename=\"5min\", img_filename=\"5min\")\n"
   ]
  },
  {
   "cell_type": "code",
   "execution_count": 1,
   "metadata": {},
   "outputs": [
    {
     "name": "stdout",
     "output_type": "stream",
     "text": [
      "[INFO] 데이터 15개를 'csv/15min.csv'에 저장했습니다.\n",
      "[INFO] 그래프를 'img/15min.png'에 저장했습니다.\n"
     ]
    }
   ],
   "source": [
    "from main import Coin_Bot  # 클래스 이름과 파일명이 일치하도록 수정\n",
    "from dotenv import load_dotenv\n",
    "import os\n",
    "\n",
    "load_dotenv()  # 환경 변수 로드\n",
    "\n",
    "# 환경 변수에서 Slack과 Google API 키 가져오기\n",
    "SLACK_TOKEN = os.getenv(\"SLACK_BOT_TOKEN\")\n",
    "GOOGLE_API_KEY = os.getenv(\"GEMINI_API_KEY\")\n",
    "\n",
    "# 필수 인자를 전달하여 CoinNewsBot 객체 생성\n",
    "coin_bot = Coin_Bot(slack_token=SLACK_TOKEN, google_api_key=GOOGLE_API_KEY)\n",
    "\n",
    "coin_bot.save_and_plot_ohlcv(interval=\"minute5\", count=15, csv_filename=\"15min\", img_filename=\"15min\")\n"
   ]
  },
  {
   "cell_type": "code",
   "execution_count": null,
   "metadata": {},
   "outputs": [
    {
     "name": "stdout",
     "output_type": "stream",
     "text": [
      "[INFO] 자동 업데이트 시작 (5분 간격)\n",
      "\n",
      "[INFO] 뉴스 확인 중... (2025-01-27 20:45:23)\n",
      "[INFO] Slack 메시지가 전송되었습니다.\n",
      "[INFO] 5분 뒤 다음 업데이트 진행...\n"
     ]
    }
   ],
   "source": [
    "coin_bot.run_autoupdate()"
   ]
  },
  {
   "cell_type": "code",
   "execution_count": null,
   "metadata": {},
   "outputs": [
    {
     "name": "stdout",
     "output_type": "stream",
     "text": [
      "[INFO] 자동 업데이트 시작 (5분 간격)\n",
      "\n",
      "[INFO] 뉴스 확인 중... (2025-01-27 21:09:15)\n",
      "[INFO] Slack 메시지가 전송되었습니다.\n",
      "[INFO] 5분 뒤 다음 업데이트 진행...\n"
     ]
    }
   ],
   "source": [
    "coin_bot.run_autoupdate()"
   ]
  }
 ],
 "metadata": {
  "kernelspec": {
   "display_name": "Min",
   "language": "python",
   "name": "python3"
  },
  "language_info": {
   "codemirror_mode": {
    "name": "ipython",
    "version": 3
   },
   "file_extension": ".py",
   "mimetype": "text/x-python",
   "name": "python",
   "nbconvert_exporter": "python",
   "pygments_lexer": "ipython3",
   "version": "3.13.0"
  }
 },
 "nbformat": 4,
 "nbformat_minor": 2
}
